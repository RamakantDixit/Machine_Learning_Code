{
 "cells": [
  {
   "cell_type": "markdown",
   "metadata": {},
   "source": [
    "### Sl. No 1, Topic- Python program Basics "
   ]
  },
  {
   "cell_type": "markdown",
   "metadata": {},
   "source": [
    "#### Program Assignment- Write a program to Add, Subtract, Multiply, and Divide 2 numbers"
   ]
  },
  {
   "cell_type": "code",
   "execution_count": 1,
   "metadata": {},
   "outputs": [
    {
     "name": "stdout",
     "output_type": "stream",
     "text": [
      "Addition of 20 and 10 is = 30\n",
      "Subtraction of 20 and 10 is = 10\n",
      "Multiplication of 20 and 10 is = 200\n",
      "Division of 20 and 10 is = 2\n"
     ]
    }
   ],
   "source": [
    "def arithmetic_operation(x,y):\n",
    "    print(\"Addition of {0} and {1} is = {2}\".format(x,y,(x+y)))\n",
    "    print(\"Subtraction of {0} and {1} is = {2}\".format(x,y,(x-y)))\n",
    "    print(\"Multiplication of {0} and {1} is = {2}\".format(x,y,(x*y)))\n",
    "    print(\"Division of {0} and {1} is = {2}\".format(x,y,(x//y)))\n",
    "    \n",
    "arithmetic_operation(20,10)"
   ]
  },
  {
   "cell_type": "markdown",
   "metadata": {},
   "source": [
    "### Sl no 2, Topic- Basic Operators "
   ]
  },
  {
   "cell_type": "markdown",
   "metadata": {},
   "source": [
    "#### Write a program to find the biggest of 3 numbers (Use If Condition)"
   ]
  },
  {
   "cell_type": "code",
   "execution_count": 3,
   "metadata": {},
   "outputs": [
    {
     "name": "stdout",
     "output_type": "stream",
     "text": [
      "20 is biggest number\n"
     ]
    }
   ],
   "source": [
    "def Find_Bigger(num1,num2,num3):\n",
    "    if num1>num2:\n",
    "        if num1>num3:\n",
    "            print(\"{0} is biggest number\".format(num1))\n",
    "        else:\n",
    "            print(\"{0} is biggest number\".format(num3))\n",
    "    else:\n",
    "        if num2>num3:\n",
    "            print(\"{0} is biggest number\".format(num2))\n",
    "        else:\n",
    "            print(\"{0} is biggest number\".format(num3))\n",
    "    \n",
    "Find_Bigger(4,20,6)"
   ]
  },
  {
   "cell_type": "markdown",
   "metadata": {},
   "source": [
    "### Sl no 3, Topic- Basic Operators"
   ]
  },
  {
   "cell_type": "markdown",
   "metadata": {},
   "source": [
    "#### Write a program to find given number is odd or Even"
   ]
  },
  {
   "cell_type": "code",
   "execution_count": 4,
   "metadata": {},
   "outputs": [
    {
     "name": "stdout",
     "output_type": "stream",
     "text": [
      "25 is odd number\n"
     ]
    }
   ],
   "source": [
    "def Find_Even_Odd(num1):\n",
    "    if num1%2==0:\n",
    "        print(\"{0} is even number\".format(num1))\n",
    "    else:\n",
    "        print(\"{0} is odd number\".format(num1))\n",
    "\n",
    "Find_Even_Odd(25)"
   ]
  },
  {
   "cell_type": "markdown",
   "metadata": {},
   "source": [
    "### Sl no 4, Topic- Basic Operators"
   ]
  },
  {
   "cell_type": "markdown",
   "metadata": {},
   "source": [
    "#### Write a program to find the number is Prime or not."
   ]
  },
  {
   "cell_type": "code",
   "execution_count": 5,
   "metadata": {},
   "outputs": [
    {
     "name": "stdout",
     "output_type": "stream",
     "text": [
      "Please enter a number= 17\n",
      "17  is a prime number\n"
     ]
    }
   ],
   "source": [
    "num=eval(input(\"Please enter a number= \"))\n",
    "def Find_Prime(num):\n",
    "    flag=1\n",
    "    if num > 1:\n",
    "        for i in range(2, num):\n",
    "            if (num % i) == 0:\n",
    "                flag=0\n",
    "                break\n",
    "\n",
    "    if flag==0:\n",
    "        print(num, \" is not a prime number\")\n",
    "    else:\n",
    "        print(num, \" is a prime number\")\n",
    "\n",
    "            \n",
    "Find_Prime(num)"
   ]
  },
  {
   "cell_type": "markdown",
   "metadata": {},
   "source": [
    "### Sl no 5, Topic- Command line Arguments "
   ]
  },
  {
   "cell_type": "markdown",
   "metadata": {},
   "source": [
    "#### Write a program to receive 5 command line arguments and print each argument separately.\n",
    "a) From the above statement your program should receive arguments and print them each of them.\n",
    "\n",
    "b) Find the biggest of three numbers, where three numbers are passed as command line arguments.\n"
   ]
  },
  {
   "cell_type": "code",
   "execution_count": null,
   "metadata": {
    "collapsed": true
   },
   "outputs": [],
   "source": [
    "from sys import argv\n",
    "print(\"First argument ={0}\".format(argv[1]))\n",
    "print(\"Second argument ={0}\".format(argv[2]))\n",
    "print(\"Third argument ={0}\".format(argv[3]))\n",
    "print(\"Fourth argument ={0}\".format(argv[4]))\n",
    "print(\"fifth argument ={0}\".format(argv[5]))\n",
    "\n",
    "def Find_Bigger(num1,num2,num3):\n",
    "    if num1>num2:\n",
    "        if num1>num3:\n",
    "            print(\"{0} is biggest number\".format(num1))\n",
    "        else:\n",
    "            print(\"{0} is biggest number\".format(num3))\n",
    "    else:\n",
    "        if num2>num3:\n",
    "            print(\"{0} is biggest number\".format(num2))\n",
    "        else:\n",
    "            print(\"{0} is biggest number\".format(num3))\n",
    "    \n",
    "Find_Bigger(argv[1],argv[2],argv[3])"
   ]
  },
  {
   "cell_type": "markdown",
   "metadata": {},
   "source": [
    "### Sl no 6, Topic- Basic String operations"
   ]
  },
  {
   "cell_type": "markdown",
   "metadata": {},
   "source": [
    "#### Write a program to read string and print each character separately.\n",
    "    a) Slice the string using slice operator [:] slice the portion the strings to create a sub strings.\n",
    "    b) Repeat the string 100 times using repeat operator *\n",
    "    c) Read string 2 and concatenate with other string using + operator.\n",
    " "
   ]
  },
  {
   "cell_type": "code",
   "execution_count": 6,
   "metadata": {},
   "outputs": [
    {
     "name": "stdout",
     "output_type": "stream",
     "text": [
      "string characters-\n",
      "R\n",
      "a\n",
      "m\n",
      "a\n",
      "k\n",
      "a\n",
      "n\n",
      "t\n",
      " \n",
      "D\n",
      "i\n",
      "x\n",
      "i\n",
      "t\n",
      "sub string is = Dixit\n",
      "Repeat the string 100 = Ramakant DixitRamakant DixitRamakant DixitRamakant DixitRamakant DixitRamakant DixitRamakant DixitRamakant DixitRamakant DixitRamakant DixitRamakant DixitRamakant DixitRamakant DixitRamakant DixitRamakant DixitRamakant DixitRamakant DixitRamakant DixitRamakant DixitRamakant DixitRamakant DixitRamakant DixitRamakant DixitRamakant DixitRamakant DixitRamakant DixitRamakant DixitRamakant DixitRamakant DixitRamakant DixitRamakant DixitRamakant DixitRamakant DixitRamakant DixitRamakant DixitRamakant DixitRamakant DixitRamakant DixitRamakant DixitRamakant DixitRamakant DixitRamakant DixitRamakant DixitRamakant DixitRamakant DixitRamakant DixitRamakant DixitRamakant DixitRamakant DixitRamakant DixitRamakant DixitRamakant DixitRamakant DixitRamakant DixitRamakant DixitRamakant DixitRamakant DixitRamakant DixitRamakant DixitRamakant DixitRamakant DixitRamakant DixitRamakant DixitRamakant DixitRamakant DixitRamakant DixitRamakant DixitRamakant DixitRamakant DixitRamakant DixitRamakant DixitRamakant DixitRamakant DixitRamakant DixitRamakant DixitRamakant DixitRamakant DixitRamakant DixitRamakant DixitRamakant DixitRamakant DixitRamakant DixitRamakant DixitRamakant DixitRamakant DixitRamakant DixitRamakant DixitRamakant DixitRamakant DixitRamakant DixitRamakant DixitRamakant DixitRamakant DixitRamakant DixitRamakant DixitRamakant DixitRamakant DixitRamakant DixitRamakant DixitRamakant Dixit\n",
      "string concatenation= Dixit Wipro\n"
     ]
    }
   ],
   "source": [
    "str=\"Ramakant Dixit\"\n",
    "print(\"string characters-\")\n",
    "for s in str:\n",
    "    print(s)\n",
    "    \n",
    "#a) create sub string\n",
    "str2 =str[9:len(str)]\n",
    "print(\"sub string is =\",str2)\n",
    "\n",
    "#b) Repeat the string 100 \n",
    "print(\"Repeat the string 100 =\",str*100)\n",
    "\n",
    "#c) concatenate  string\n",
    "str3=\"Wipro\"\n",
    "print(\"string concatenation=\",str2+' '+str3)           "
   ]
  },
  {
   "cell_type": "markdown",
   "metadata": {},
   "source": [
    "### Sl no 7, Topic-Basic LIST Operations"
   ]
  },
  {
   "cell_type": "markdown",
   "metadata": {},
   "source": [
    "### Create a list with at least 10 elements having integer values in it;\n",
    "       Print all elements\n",
    "       Perform slicing operations\n",
    "       Perform repetition with * operator\n",
    "       Perform concatenation with other list.\n"
   ]
  },
  {
   "cell_type": "code",
   "execution_count": 7,
   "metadata": {},
   "outputs": [
    {
     "name": "stdout",
     "output_type": "stream",
     "text": [
      "10\n",
      "34\n",
      "22\n",
      "67\n",
      "89\n",
      "3\n",
      "5\n",
      "99\n",
      "63\n",
      "21\n",
      "88\n",
      "700\n",
      "43\n",
      "65\n",
      "slicing operations=  [67, 89, 3, 5, 99]\n",
      "repetition with * operator=  [10, 34, 22, 67, 89, 3, 5, 99, 63, 21, 88, 700, 43, 65, 10, 34, 22, 67, 89, 3, 5, 99, 63, 21, 88, 700, 43, 65, 10, 34, 22, 67, 89, 3, 5, 99, 63, 21, 88, 700, 43, 65, 10, 34, 22, 67, 89, 3, 5, 99, 63, 21, 88, 700, 43, 65, 10, 34, 22, 67, 89, 3, 5, 99, 63, 21, 88, 700, 43, 65, 10, 34, 22, 67, 89, 3, 5, 99, 63, 21, 88, 700, 43, 65, 10, 34, 22, 67, 89, 3, 5, 99, 63, 21, 88, 700, 43, 65, 10, 34, 22, 67, 89, 3, 5, 99, 63, 21, 88, 700, 43, 65, 10, 34, 22, 67, 89, 3, 5, 99, 63, 21, 88, 700, 43, 65, 10, 34, 22, 67, 89, 3, 5, 99, 63, 21, 88, 700, 43, 65]\n",
      "list concatenation =  [10, 34, 22, 67, 89, 3, 5, 99, 63, 21, 88, 700, 43, 65, 5001, 5002, 5003]\n"
     ]
    }
   ],
   "source": [
    "first_list=[10,34,22,67,89,3,5,99,63,21,88,700,43,65]       \n",
    "for l in first_list:\n",
    "    print(l)\n",
    "print(\"slicing operations= \",first_list[3:8])\n",
    "print(\"repetition with * operator= \", first_list*10)\n",
    "second_list=[5001,5002,5003]\n",
    "print(\"list concatenation = \",first_list+second_list)"
   ]
  },
  {
   "cell_type": "markdown",
   "metadata": {},
   "source": [
    "### sl no 8, Topic - Basic of Tuple"
   ]
  },
  {
   "cell_type": "markdown",
   "metadata": {},
   "source": [
    "### Repeat program 7 with Tuples (Take example from Tutorial)"
   ]
  },
  {
   "cell_type": "code",
   "execution_count": 8,
   "metadata": {},
   "outputs": [
    {
     "name": "stdout",
     "output_type": "stream",
     "text": [
      "10\n",
      "2\n",
      "33\n",
      "46\n",
      "57\n",
      "89\n",
      "901\n",
      "21\n",
      "34\n",
      "38\n",
      "12\n",
      "(46, 57, 89, 901, 21)\n",
      "(10, 2, 33, 46, 57, 89, 901, 21, 34, 38, 12, 10, 2, 33, 46, 57, 89, 901, 21, 34, 38, 12, 10, 2, 33, 46, 57, 89, 901, 21, 34, 38, 12, 10, 2, 33, 46, 57, 89, 901, 21, 34, 38, 12, 10, 2, 33, 46, 57, 89, 901, 21, 34, 38, 12, 10, 2, 33, 46, 57, 89, 901, 21, 34, 38, 12, 10, 2, 33, 46, 57, 89, 901, 21, 34, 38, 12, 10, 2, 33, 46, 57, 89, 901, 21, 34, 38, 12, 10, 2, 33, 46, 57, 89, 901, 21, 34, 38, 12, 10, 2, 33, 46, 57, 89, 901, 21, 34, 38, 12)\n",
      "(10, 2, 33, 46, 57, 89, 901, 21, 34, 38, 12, 700, 701, 703, 705)\n"
     ]
    }
   ],
   "source": [
    "first_tupple=(10,2,33,46,57,89,901,21,34,38,12)\n",
    "\n",
    "for t in first_tupple:\n",
    "    print(t)\n",
    "\n",
    "print(first_tupple[3:8])\n",
    "\n",
    "print(first_tupple*10)\n",
    "\n",
    "second_tupple=(700,701,703,705)\n",
    "\n",
    "print(first_tupple+second_tupple)"
   ]
  },
  {
   "cell_type": "markdown",
   "metadata": {},
   "source": [
    "### sl no 9, Python Numbers"
   ]
  },
  {
   "cell_type": "markdown",
   "metadata": {},
   "source": [
    "#### Write program to Add, Subtract, Multiply, Divide 2 Complex numbers. "
   ]
  },
  {
   "cell_type": "code",
   "execution_count": 9,
   "metadata": {},
   "outputs": [
    {
     "name": "stdout",
     "output_type": "stream",
     "text": [
      "Addition of 2 complex number is= (6+8j)\n",
      "subtraction of 2 complex number is= (2+2j)\n",
      "multiplication of 2 complex number is= (-7+22j)\n",
      "division of 2 complex number is= (1.7692307692307692-0.15384615384615394j)\n"
     ]
    }
   ],
   "source": [
    "num1=complex(4+5j)\n",
    "\n",
    "num2=complex(2+3j)\n",
    "\n",
    "print('Addition of 2 complex number is=',num1+num2)\n",
    "\n",
    "print('subtraction of 2 complex number is=',num1-num2)\n",
    "\n",
    "print('multiplication of 2 complex number is=',num1*num2)\n",
    "\n",
    "print('division of 2 complex number is=',num1/num2)"
   ]
  },
  {
   "cell_type": "markdown",
   "metadata": {},
   "source": [
    "### Sl no 10,Topic-Assignment Operator"
   ]
  },
  {
   "cell_type": "markdown",
   "metadata": {},
   "source": [
    "#### Using assignment operators, perform following operations\n",
    "Addition, Substation, Multiplication, Division, Modulus, Exponent and Floor division operations\n"
   ]
  },
  {
   "cell_type": "code",
   "execution_count": 10,
   "metadata": {},
   "outputs": [
    {
     "name": "stdout",
     "output_type": "stream",
     "text": [
      "Addition of assignment operator  is= 12\n",
      "subtraction of assignment operator  is= 2\n",
      "multiplication of assignment operator  is= 32\n",
      "division of assignment operator  is= 1.3333333333333333\n",
      "modulus of assignment operator  is= 2\n",
      "exponential of assignment operator  is= 262144\n",
      "floor division of assignment operator  is= 1\n"
     ]
    }
   ],
   "source": [
    "a=4\n",
    "b=6\n",
    "c=8\n",
    "c +=a\n",
    "print('Addition of assignment operator  is=',c)\n",
    "c=8\n",
    "c-=b\n",
    "print('subtraction of assignment operator  is=',c)\n",
    "c=8\n",
    "c*=a\n",
    "print('multiplication of assignment operator  is=',c)\n",
    "c=8\n",
    "c/=b\n",
    "print('division of assignment operator  is=',c)\n",
    "c=8\n",
    "c%=b\n",
    "print('modulus of assignment operator  is=',c)\n",
    "c=8\n",
    "c**=b\n",
    "print('exponential of assignment operator  is=',c)\n",
    "c=8\n",
    "c//=b\n",
    "print('floor division of assignment operator  is=',c)"
   ]
  },
  {
   "cell_type": "markdown",
   "metadata": {},
   "source": [
    "### Sl no 11, Topic-Bitwise Operator"
   ]
  },
  {
   "cell_type": "markdown",
   "metadata": {},
   "source": [
    "#### Read 2 numbers to variable a and b and perform all bitwise operations on that numbers."
   ]
  },
  {
   "cell_type": "code",
   "execution_count": 11,
   "metadata": {},
   "outputs": [
    {
     "name": "stdout",
     "output_type": "stream",
     "text": [
      "bitwise AND operatio is= 8\n",
      "bitwise OR operatio is= 42\n",
      "bitwise NOT operatio is= -41\n",
      "bitwise XOR operatio is= 34\n",
      "bitwise right shift is= 20\n",
      "bitwise right shift is= 80\n"
     ]
    }
   ],
   "source": [
    "a=40\n",
    "b=10\n",
    "print('bitwise AND operatio is=',a&b)\n",
    "print('bitwise OR operatio is=',a|b)\n",
    "print('bitwise NOT operatio is=',~a)\n",
    "print('bitwise XOR operatio is=',a^b)\n",
    "print('bitwise right shift is=',a>>1)\n",
    "print('bitwise right shift is=',a<<1)      "
   ]
  },
  {
   "cell_type": "markdown",
   "metadata": {},
   "source": [
    "### Sl 12,Topic- Comparison operator"
   ]
  },
  {
   "cell_type": "markdown",
   "metadata": {},
   "source": [
    "#### Read 10 numbers from user and find the average of all.\n",
    "a) Use comparison operator to check how many numbers are less than average and print them\n",
    "\n",
    "b) Check how many numbers are more than average.\n",
    "\n",
    "c) How many are equal to average.\n",
    " "
   ]
  },
  {
   "cell_type": "code",
   "execution_count": 12,
   "metadata": {},
   "outputs": [
    {
     "name": "stdout",
     "output_type": "stream",
     "text": [
      "How many number are you want to enter10\n",
      "please enter number 1 49\n",
      "please enter number 2 33\n",
      "please enter number 3 67\n",
      "please enter number 4 89\n",
      "please enter number 5 12\n",
      "please enter number 6 15\n",
      "please enter number 7 80\n",
      "please enter number 8 97\n",
      "please enter number 9 34\n",
      "please enter number 10 21\n",
      "You have entered 10 numbers and those are [49, 33, 67, 89, 12, 15, 80, 97, 34, 21]\n",
      "Average of this list is= 49.7\n",
      "sum is= 497\n",
      "numbers are less than average = [49, 33, 12, 15, 34, 21]\n",
      "numbers are more than average = [67, 89, 80, 97]\n",
      "numbers are equal to average = []\n"
     ]
    }
   ],
   "source": [
    "num_list=[]\n",
    "less_num_list=[]\n",
    "more_num_list=[]\n",
    "equal_num_list=[]\n",
    "start=0\n",
    "end=eval(input(\"How many number are you want to enter\"))\n",
    "while start<end:\n",
    "    num=eval(input(\"please enter number {0} \".format(start+1)))\n",
    "    num_list.append(num)\n",
    "    start=start+1\n",
    "print(\"You have entered {0} numbers and those are {1}\".format(end,num_list))\n",
    "Avg=sum(num_list)/len(num_list)\n",
    "print(\"Average of this list is= {0}\".format(Avg))\n",
    "print(\"sum is=\",sum(num_list))\n",
    "for n in num_list:\n",
    "    if n<Avg:\n",
    "        less_num_list.append(n)\n",
    "    elif n>Avg:\n",
    "        more_num_list.append(n)\n",
    "    else:\n",
    "        equal_num_list.append(n)\n",
    "print(\"numbers are less than average = {0}\".format(less_num_list))\n",
    "print(\"numbers are more than average = {0}\".format(more_num_list))\n",
    "print(\"numbers are equal to average = {0}\".format(equal_num_list))"
   ]
  },
  {
   "cell_type": "markdown",
   "metadata": {},
   "source": [
    "### Sl no 13, Topic-Decision making "
   ]
  },
  {
   "cell_type": "markdown",
   "metadata": {},
   "source": [
    "### Write a program to find the biggest of 4 numbers.\n",
    "   a) Read 4 numbers from user using Input statement.\n",
    "   \n",
    "   b) extend the above program to find the biggest of 5 numbers.\n",
    "(PS: Use IF and IF & Else, If and ELIf, and Nested IF)\n",
    " "
   ]
  },
  {
   "cell_type": "code",
   "execution_count": 13,
   "metadata": {},
   "outputs": [
    {
     "name": "stdout",
     "output_type": "stream",
     "text": [
      "How many number are you want to enter= 5\n",
      "please enter number 1 23\n",
      "please enter number 2 67\n",
      "please enter number 3 6\n",
      "please enter number 4 89\n",
      "please enter number 5 21\n",
      "Biggest number in entered 5 number is= 89\n"
     ]
    }
   ],
   "source": [
    "num_list=[]\n",
    "start=0\n",
    "end=eval(input(\"How many number are you want to enter= \"))\n",
    "while start<end:\n",
    "    num=eval(input(\"please enter number {0} \".format(start+1)))\n",
    "    num_list.append(num)\n",
    "    start=start+1\n",
    "num_list.sort()\n",
    "print(\"Biggest number in entered {0} number is= {1}\".format(end,num_list[-1]))"
   ]
  },
  {
   "cell_type": "markdown",
   "metadata": {
    "collapsed": true
   },
   "source": [
    "### Sl no 14, Topic-Python List functions and Methods "
   ]
  },
  {
   "cell_type": "markdown",
   "metadata": {},
   "source": [
    "### Write a program to create two list A &B such that List A contains Employee Id, List B contain Employee name(minimum 10 entries in each list) &perform following operation\n",
    "     a) Print all names on to screen\n",
    "     b) Read the index from the  user and print the corresponding name from both list.\n",
    "     c) Print the names from 4th position to 9th position\n",
    "     d) Print all names from 3rd position till end of the list\n",
    "     e) Repeat list elements by specified number of times (N- times, where N is entered by user)\n",
    "     f)  Concatenate two lists and print the output.\n",
    "     g) Print element of list A and B side by side.(i.e. List-A First element, List-B First element )\n",
    " "
   ]
  },
  {
   "cell_type": "code",
   "execution_count": 14,
   "metadata": {},
   "outputs": [
    {
     "name": "stdout",
     "output_type": "stream",
     "text": [
      "Please enter the index you wnat to see( Range 0-11):- 6\n",
      "Please enter the number to repeat the list :- 4\n",
      "All employees name :-  ['Name101', 'Name202', 'Name301', 'Name103', 'Name220', 'Name455', 'Name331', 'Name554', 'name211', 'Name189', 'Name123', 'Name265']\n",
      "Employee ID is= 331 \n",
      "Employee name is= Name331\n",
      "Employee name from 4th position to 9th Position=  ['Name220', 'Name455', 'Name331', 'Name554', 'name211', 'Name189']\n",
      "Employee name from 3rd position to till the end=  ['Name103', 'Name220', 'Name455', 'Name331', 'Name554', 'name211', 'Name189', 'Name123', 'Name265']\n",
      "Repeat list elements by 4=['Name101', 'Name202', 'Name301', 'Name103', 'Name220', 'Name455', 'Name331', 'Name554', 'name211', 'Name189', 'Name123', 'Name265', 'Name101', 'Name202', 'Name301', 'Name103', 'Name220', 'Name455', 'Name331', 'Name554', 'name211', 'Name189', 'Name123', 'Name265', 'Name101', 'Name202', 'Name301', 'Name103', 'Name220', 'Name455', 'Name331', 'Name554', 'name211', 'Name189', 'Name123', 'Name265', 'Name101', 'Name202', 'Name301', 'Name103', 'Name220', 'Name455', 'Name331', 'Name554', 'name211', 'Name189', 'Name123', 'Name265']\n",
      "Concatenate two lists =  [101, 202, 301, 103, 220, 455, 331, 554, 211, 189, 123, 265, 'Name101', 'Name202', 'Name301', 'Name103', 'Name220', 'Name455', 'Name331', 'Name554', 'name211', 'Name189', 'Name123', 'Name265']\n",
      "\n",
      "Print element one by one\n",
      "EmployeeID:101 ,Employee name:Name101\n",
      "EmployeeID:202 ,Employee name:Name202\n",
      "EmployeeID:301 ,Employee name:Name301\n",
      "EmployeeID:103 ,Employee name:Name103\n",
      "EmployeeID:220 ,Employee name:Name220\n",
      "EmployeeID:455 ,Employee name:Name455\n",
      "EmployeeID:331 ,Employee name:Name331\n",
      "EmployeeID:554 ,Employee name:Name554\n",
      "EmployeeID:211 ,Employee name:name211\n",
      "EmployeeID:189 ,Employee name:Name189\n",
      "EmployeeID:123 ,Employee name:Name123\n",
      "EmployeeID:265 ,Employee name:Name265\n"
     ]
    }
   ],
   "source": [
    "Employee_ID_List_A=[101,202,301,103,220,455,331,554,211,189,123,265]\n",
    "Employee_name_List_B=['Name101','Name202','Name301','Name103','Name220',\n",
    "                      'Name455','Name331','Name554','name211','Name189','Name123','Name265']\n",
    "index=eval(input(\"Please enter the index you wnat to see( Range 0-11):- \"))\n",
    "Repeat_no=eval(input(\"Please enter the number to repeat the list :- \"))\n",
    "\n",
    "print(\"All employees name :- \",Employee_name_List_B)\n",
    "\n",
    "print(\"Employee ID is= {0} \\nEmployee name is= {1}\".format(Employee_ID_List_A[index],Employee_name_List_B[index]))\n",
    "print('Employee name from 4th position to 9th Position= ',Employee_name_List_B[4:10])\n",
    "print('Employee name from 3rd position to till the end= ',Employee_name_List_B[3:])\n",
    "print(\"Repeat list elements by {0}={1}\".format(Repeat_no,Employee_name_List_B*Repeat_no))\n",
    "print(\"Concatenate two lists = \",Employee_ID_List_A+Employee_name_List_B)\n",
    "print(\"\\nPrint element one by one\")\n",
    "for i in range(0 , 12):\n",
    "    print(\"EmployeeID:{0} ,Employee name:{1}\".format(Employee_ID_List_A[i],Employee_name_List_B[i]))\n"
   ]
  },
  {
   "cell_type": "markdown",
   "metadata": {},
   "source": [
    "### Sl no 15, Topic - Python List functions and Methods"
   ]
  },
  {
   "cell_type": "markdown",
   "metadata": {},
   "source": [
    "#### Create a list of 5 names and check given name exist in the List.\n",
    "        a) Use membership operator (IN) to check the presence of an element.\n",
    "        b) Perform above task without using membership operator.\n",
    "        c) Print the elements of the list in reverse direction.\n",
    " "
   ]
  },
  {
   "cell_type": "code",
   "execution_count": 15,
   "metadata": {},
   "outputs": [
    {
     "name": "stdout",
     "output_type": "stream",
     "text": [
      "Please enter name to search\"Name001\"\n",
      "Name exists\n",
      "\n",
      "search name without in\n",
      "Name exists\n",
      "Reverse order=['Name005', 'Name004', 'Name003', 'Name002', 'Name001'] \n"
     ]
    }
   ],
   "source": [
    "Name_List=['Name001','Name002','Name003','Name004','Name005']\n",
    "search_name=eval(input(\"Please enter name to search\"))\n",
    "if search_name in Name_List:\n",
    "    print(\"Name exists\")\n",
    "else:\n",
    "    print(\"Name does not exist\")\n",
    "\n",
    "print(\"\\nsearch name without in\")\n",
    "flag=0\n",
    "for s in range(0,len(Name_List)):\n",
    "    if search_name==Name_List[s]:\n",
    "        flag=1\n",
    "        break\n",
    "\n",
    "if flag==1:\n",
    "    print(\"Name exists\")\n",
    "else:\n",
    "    print(\"Name does not exist\")\n",
    "\n",
    "print(\"Reverse order={0} \".format(Name_List[::-1]))"
   ]
  },
  {
   "cell_type": "markdown",
   "metadata": {},
   "source": [
    "### Sl no 16, Topic- Python Numbers"
   ]
  },
  {
   "cell_type": "markdown",
   "metadata": {},
   "source": [
    "#### Write program to perform following:\n",
    "     i) Check whether given number is prime or not.\n",
    "    ii) Generate all the prime numbers between 1 to N where N is given number.\n"
   ]
  },
  {
   "cell_type": "code",
   "execution_count": 16,
   "metadata": {},
   "outputs": [
    {
     "name": "stdout",
     "output_type": "stream",
     "text": [
      "Please enter number= 50\n",
      "Please enter the number  to genrate prime numbers= 70\n",
      "50  is not prime number\n",
      "prime number list for entered number 70 is = [1, 2, 3, 5, 7, 11, 13, 17, 19, 23, 29, 31, 37, 41, 43, 47, 53, 59, 61, 67] \n"
     ]
    }
   ],
   "source": [
    "number=eval(input(\"Please enter number= \"))\n",
    "count=eval(input(\"Please enter the number  to genrate prime numbers= \"))\n",
    "prime_num_list=[]\n",
    "prime_flag=0\n",
    "def Find_Prime(num):\n",
    "    flag=1\n",
    "    if num > 1:\n",
    "        for i in range(2, num):\n",
    "            if (num % i) == 0:\n",
    "                flag=0\n",
    "                break\n",
    "    return flag\n",
    "prime_flag=Find_Prime(number)\n",
    "if prime_flag==0:\n",
    "    print(number, \" is not prime number\")\n",
    "else:\n",
    "    print(number, \" is  a prime number\")\n",
    "    \n",
    "prime_flag=1\n",
    "for n in range(1,count):\n",
    "    prime_flag=Find_Prime(n)\n",
    "    if prime_flag!=0:\n",
    "        prime_num_list.append(n)\n",
    "print(\"prime number list for entered number {0} is = {1} \".format(count,prime_num_list))  "
   ]
  },
  {
   "cell_type": "markdown",
   "metadata": {},
   "source": [
    "### Sl no is 17, Topic-Decision making  "
   ]
  },
  {
   "cell_type": "markdown",
   "metadata": {},
   "source": [
    "#### Write program to find thebiggest and Smallest of N numbers.\n",
    "      PS: Use the functions to find biggest and smallest numbers. \n"
   ]
  },
  {
   "cell_type": "code",
   "execution_count": 17,
   "metadata": {},
   "outputs": [
    {
     "name": "stdout",
     "output_type": "stream",
     "text": [
      "Please enter the length of number list = 10\n",
      "Please enter the number at 0 position= 78\n",
      "Please enter the number at 1 position= 34\n",
      "Please enter the number at 2 position= 29\n",
      "Please enter the number at 3 position= 2\n",
      "Please enter the number at 4 position= 99\n",
      "Please enter the number at 5 position= 54\n",
      "Please enter the number at 6 position= 36\n",
      "Please enter the number at 7 position= 67\n",
      "Please enter the number at 8 position= 32\n",
      "Please enter the number at 9 position= 77\n",
      "smallest number is=  2\n",
      "biggest number is=  99\n"
     ]
    }
   ],
   "source": [
    "count=eval(input(\"Please enter the length of number list = \"))\n",
    "number_list=[]\n",
    "for i in range(0,count):\n",
    "    num=eval(input(\"Please enter the number at {0} position= \".format(i)))\n",
    "    number_list.append(num)\n",
    "\n",
    "def smallest_num(number_list):\n",
    "    smallest =int(number_list[0])\n",
    "    for i in range(0,len(number_list)):\n",
    "        if smallest>int(number_list[i]):\n",
    "            smallest=number_list[i]\n",
    "    return smallest\n",
    "\n",
    "def biggest_num(number_list):\n",
    "    biggest =int(number_list[0])\n",
    "    for i in range(0,len(number_list)):\n",
    "        if biggest<int(number_list[i]):\n",
    "            biggest=number_list[i]\n",
    "    return biggest\n",
    "\n",
    "smallest=smallest_num(number_list)\n",
    "biggest=biggest_num(number_list)\n",
    "print(\"smallest number is= \",smallest)\n",
    "print(\"biggest number is= \",biggest)"
   ]
  },
  {
   "cell_type": "markdown",
   "metadata": {},
   "source": [
    "### Sl no 18,Topic-Looping Structure"
   ]
  },
  {
   "cell_type": "markdown",
   "metadata": {},
   "source": [
    "#### Using loop structures print numbers from 1 to 100.  and using the same loop print numbers from 100 to 1 (reverse printing)\n",
    "a) By using For loop \n",
    "\n",
    "b) By using while loop\n",
    "\n",
    "c) Let mystring =\"Hello world\"\n",
    "print each character of mystring in to separate line using appropriate loop structure.\n"
   ]
  },
  {
   "cell_type": "code",
   "execution_count": 18,
   "metadata": {},
   "outputs": [
    {
     "name": "stdout",
     "output_type": "stream",
     "text": [
      "Number 1 to 100 by for loop\n",
      "0\n",
      "1\n",
      "2\n",
      "3\n",
      "4\n",
      "5\n",
      "6\n",
      "7\n",
      "8\n",
      "9\n",
      "10\n",
      "11\n",
      "12\n",
      "13\n",
      "14\n",
      "15\n",
      "16\n",
      "17\n",
      "18\n",
      "19\n",
      "20\n",
      "21\n",
      "22\n",
      "23\n",
      "24\n",
      "25\n",
      "26\n",
      "27\n",
      "28\n",
      "29\n",
      "30\n",
      "31\n",
      "32\n",
      "33\n",
      "34\n",
      "35\n",
      "36\n",
      "37\n",
      "38\n",
      "39\n",
      "40\n",
      "41\n",
      "42\n",
      "43\n",
      "44\n",
      "45\n",
      "46\n",
      "47\n",
      "48\n",
      "49\n",
      "50\n",
      "51\n",
      "52\n",
      "53\n",
      "54\n",
      "55\n",
      "56\n",
      "57\n",
      "58\n",
      "59\n",
      "60\n",
      "61\n",
      "62\n",
      "63\n",
      "64\n",
      "65\n",
      "66\n",
      "67\n",
      "68\n",
      "69\n",
      "70\n",
      "71\n",
      "72\n",
      "73\n",
      "74\n",
      "75\n",
      "76\n",
      "77\n",
      "78\n",
      "79\n",
      "80\n",
      "81\n",
      "82\n",
      "83\n",
      "84\n",
      "85\n",
      "86\n",
      "87\n",
      "88\n",
      "89\n",
      "90\n",
      "91\n",
      "92\n",
      "93\n",
      "94\n",
      "95\n",
      "96\n",
      "97\n",
      "98\n",
      "99\n",
      "100\n",
      "Number 1 to 100 by while loop\n",
      "0\n",
      "1\n",
      "2\n",
      "3\n",
      "4\n",
      "5\n",
      "6\n",
      "7\n",
      "8\n",
      "9\n",
      "10\n",
      "11\n",
      "12\n",
      "13\n",
      "14\n",
      "15\n",
      "16\n",
      "17\n",
      "18\n",
      "19\n",
      "20\n",
      "21\n",
      "22\n",
      "23\n",
      "24\n",
      "25\n",
      "26\n",
      "27\n",
      "28\n",
      "29\n",
      "30\n",
      "31\n",
      "32\n",
      "33\n",
      "34\n",
      "35\n",
      "36\n",
      "37\n",
      "38\n",
      "39\n",
      "40\n",
      "41\n",
      "42\n",
      "43\n",
      "44\n",
      "45\n",
      "46\n",
      "47\n",
      "48\n",
      "49\n",
      "50\n",
      "51\n",
      "52\n",
      "53\n",
      "54\n",
      "55\n",
      "56\n",
      "57\n",
      "58\n",
      "59\n",
      "60\n",
      "61\n",
      "62\n",
      "63\n",
      "64\n",
      "65\n",
      "66\n",
      "67\n",
      "68\n",
      "69\n",
      "70\n",
      "71\n",
      "72\n",
      "73\n",
      "74\n",
      "75\n",
      "76\n",
      "77\n",
      "78\n",
      "79\n",
      "80\n",
      "81\n",
      "82\n",
      "83\n",
      "84\n",
      "85\n",
      "86\n",
      "87\n",
      "88\n",
      "89\n",
      "90\n",
      "91\n",
      "92\n",
      "93\n",
      "94\n",
      "95\n",
      "96\n",
      "97\n",
      "98\n",
      "99\n",
      "100\n",
      "Number 100 to 1 by for loop\n",
      "100\n",
      "99\n",
      "98\n",
      "97\n",
      "96\n",
      "95\n",
      "94\n",
      "93\n",
      "92\n",
      "91\n",
      "90\n",
      "89\n",
      "88\n",
      "87\n",
      "86\n",
      "85\n",
      "84\n",
      "83\n",
      "82\n",
      "81\n",
      "80\n",
      "79\n",
      "78\n",
      "77\n",
      "76\n",
      "75\n",
      "74\n",
      "73\n",
      "72\n",
      "71\n",
      "70\n",
      "69\n",
      "68\n",
      "67\n",
      "66\n",
      "65\n",
      "64\n",
      "63\n",
      "62\n",
      "61\n",
      "60\n",
      "59\n",
      "58\n",
      "57\n",
      "56\n",
      "55\n",
      "54\n",
      "53\n",
      "52\n",
      "51\n",
      "50\n",
      "49\n",
      "48\n",
      "47\n",
      "46\n",
      "45\n",
      "44\n",
      "43\n",
      "42\n",
      "41\n",
      "40\n",
      "39\n",
      "38\n",
      "37\n",
      "36\n",
      "35\n",
      "34\n",
      "33\n",
      "32\n",
      "31\n",
      "30\n",
      "29\n",
      "28\n",
      "27\n",
      "26\n",
      "25\n",
      "24\n",
      "23\n",
      "22\n",
      "21\n",
      "20\n",
      "19\n",
      "18\n",
      "17\n",
      "16\n",
      "15\n",
      "14\n",
      "13\n",
      "12\n",
      "11\n",
      "10\n",
      "9\n",
      "8\n",
      "7\n",
      "6\n",
      "5\n",
      "4\n",
      "3\n",
      "2\n",
      "1\n",
      "Number 100 to 1 by while loop\n",
      "100\n",
      "99\n",
      "98\n",
      "97\n",
      "96\n",
      "95\n",
      "94\n",
      "93\n",
      "92\n",
      "91\n",
      "90\n",
      "89\n",
      "88\n",
      "87\n",
      "86\n",
      "85\n",
      "84\n",
      "83\n",
      "82\n",
      "81\n",
      "80\n",
      "79\n",
      "78\n",
      "77\n",
      "76\n",
      "75\n",
      "74\n",
      "73\n",
      "72\n",
      "71\n",
      "70\n",
      "69\n",
      "68\n",
      "67\n",
      "66\n",
      "65\n",
      "64\n",
      "63\n",
      "62\n",
      "61\n",
      "60\n",
      "59\n",
      "58\n",
      "57\n",
      "56\n",
      "55\n",
      "54\n",
      "53\n",
      "52\n",
      "51\n",
      "50\n",
      "49\n",
      "48\n",
      "47\n",
      "46\n",
      "45\n",
      "44\n",
      "43\n",
      "42\n",
      "41\n",
      "40\n",
      "39\n",
      "38\n",
      "37\n",
      "36\n",
      "35\n",
      "34\n",
      "33\n",
      "32\n",
      "31\n",
      "30\n",
      "29\n",
      "28\n",
      "27\n",
      "26\n",
      "25\n",
      "24\n",
      "23\n",
      "22\n",
      "21\n",
      "20\n",
      "19\n",
      "18\n",
      "17\n",
      "16\n",
      "15\n",
      "14\n",
      "13\n",
      "12\n",
      "11\n",
      "10\n",
      "9\n",
      "8\n",
      "7\n",
      "6\n",
      "5\n",
      "4\n",
      "3\n",
      "2\n",
      "1\n",
      "0\n",
      "H\n",
      "e\n",
      "l\n",
      "l\n",
      "o\n",
      " \n",
      "w\n",
      "o\n",
      "r\n",
      "l\n",
      "d\n"
     ]
    }
   ],
   "source": [
    "print(\"Number 1 to 100 by for loop\")\n",
    "for i in range(0,101):\n",
    "    print(i)\n",
    "    \n",
    "print(\"Number 1 to 100 by while loop\")\n",
    "i=0\n",
    "while i <101:\n",
    "    print(i)\n",
    "    i+=1\n",
    "\n",
    "print(\"Number 100 to 1 by for loop\")\n",
    "for i in range(100,0,-1):\n",
    "    print(i)\n",
    "    \n",
    "print(\"Number 100 to 1 by while loop\")\n",
    "i=100\n",
    "while i >=0:\n",
    "    print(i)\n",
    "    i-=1\n",
    "mystring =\"Hello world\"\n",
    "for str in mystring:\n",
    "    print(str)"
   ]
  },
  {
   "cell_type": "markdown",
   "metadata": {},
   "source": [
    "### sl no 19, Topic-Looping Structure "
   ]
  },
  {
   "cell_type": "markdown",
   "metadata": {},
   "source": [
    "#### Using loop structures print even numbers between 1 to 100.  \n",
    "a) By using For loop, use continue/ break/ pass statement to skip odd numbers.\n",
    "    i) Break the loop if the value is 50\n",
    "    ii) Use continue for the values 10,20,30,40,50\n",
    "      b) By using while loop, use continue/ break/ pass statement to skip odd numbers.\n",
    "      i) Break the loop if the value is 90\n",
    "      ii) Use continue for the values 60,70,80,90\n"
   ]
  },
  {
   "cell_type": "code",
   "execution_count": 19,
   "metadata": {},
   "outputs": [
    {
     "name": "stdout",
     "output_type": "stream",
     "text": [
      "even numbers:= 2\n",
      "even numbers:= 4\n",
      "even numbers:= 6\n",
      "even numbers:= 8\n",
      "even numbers:= 10\n",
      "even numbers:= 12\n",
      "even numbers:= 14\n",
      "even numbers:= 16\n",
      "even numbers:= 18\n",
      "even numbers:= 20\n",
      "even numbers:= 22\n",
      "even numbers:= 24\n",
      "even numbers:= 26\n",
      "even numbers:= 28\n",
      "even numbers:= 30\n",
      "even numbers:= 32\n",
      "even numbers:= 34\n",
      "even numbers:= 36\n",
      "even numbers:= 38\n",
      "even numbers:= 40\n",
      "even numbers:= 42\n",
      "even numbers:= 44\n",
      "even numbers:= 46\n",
      "even numbers:= 48\n",
      "even numbers:= 50\n",
      "even numbers:= 52\n",
      "even numbers:= 54\n",
      "even numbers:= 56\n",
      "even numbers:= 58\n",
      "even numbers:= 60\n",
      "even numbers:= 62\n",
      "even numbers:= 64\n",
      "even numbers:= 66\n",
      "even numbers:= 68\n",
      "even numbers:= 70\n",
      "even numbers:= 72\n",
      "even numbers:= 74\n",
      "even numbers:= 76\n",
      "even numbers:= 78\n",
      "even numbers:= 80\n",
      "even numbers:= 82\n",
      "even numbers:= 84\n",
      "even numbers:= 86\n",
      "even numbers:= 88\n",
      "even numbers:= 90\n",
      "even numbers:= 92\n",
      "even numbers:= 94\n",
      "even numbers:= 96\n",
      "even numbers:= 98\n",
      "even numbers:= 100\n",
      "numbers:= 2\n",
      "numbers:= 4\n",
      "numbers:= 6\n",
      "numbers:= 8\n",
      "numbers:= 10\n",
      "numbers:= 12\n",
      "numbers:= 14\n",
      "numbers:= 16\n",
      "numbers:= 18\n",
      "numbers:= 20\n",
      "numbers:= 22\n",
      "numbers:= 24\n",
      "numbers:= 26\n",
      "numbers:= 28\n",
      "numbers:= 30\n",
      "numbers:= 32\n",
      "numbers:= 34\n",
      "numbers:= 36\n",
      "numbers:= 38\n",
      "numbers:= 40\n",
      "numbers:= 42\n",
      "numbers:= 44\n",
      "numbers:= 46\n",
      "numbers:= 48\n",
      "numbers:= 50\n",
      "even numbers:= 2\n",
      "even numbers:= 4\n",
      "even numbers:= 6\n",
      "even numbers:= 8\n",
      "even numbers:= 10\n",
      "even numbers:= 12\n",
      "even numbers:= 14\n",
      "even numbers:= 16\n",
      "even numbers:= 18\n",
      "even numbers:= 20\n",
      "even numbers:= 22\n",
      "even numbers:= 24\n",
      "even numbers:= 26\n",
      "even numbers:= 28\n",
      "even numbers:= 30\n",
      "even numbers:= 32\n",
      "even numbers:= 34\n",
      "even numbers:= 36\n",
      "even numbers:= 38\n",
      "even numbers:= 40\n",
      "even numbers:= 42\n",
      "even numbers:= 44\n",
      "even numbers:= 46\n",
      "even numbers:= 48\n",
      "even numbers:= 50\n",
      "even numbers:= 52\n",
      "even numbers:= 54\n",
      "even numbers:= 56\n",
      "even numbers:= 58\n",
      "even numbers:= 60\n",
      "even numbers:= 62\n",
      "even numbers:= 64\n",
      "even numbers:= 66\n",
      "even numbers:= 68\n",
      "even numbers:= 70\n",
      "even numbers:= 72\n",
      "even numbers:= 74\n",
      "even numbers:= 76\n",
      "even numbers:= 78\n",
      "even numbers:= 80\n",
      "even numbers:= 82\n",
      "even numbers:= 84\n",
      "even numbers:= 86\n",
      "even numbers:= 88\n",
      "even numbers:= 90\n",
      "even numbers:= 92\n",
      "even numbers:= 94\n",
      "even numbers:= 96\n",
      "even numbers:= 98\n",
      "even numbers:= 100\n",
      "even numbers=  0\n",
      "even numbers=  2\n",
      "even numbers=  4\n",
      "even numbers=  6\n",
      "even numbers=  8\n",
      "even numbers=  10\n",
      "even numbers=  12\n",
      "even numbers=  14\n",
      "even numbers=  16\n",
      "even numbers=  18\n",
      "even numbers=  20\n",
      "even numbers=  22\n",
      "even numbers=  24\n",
      "even numbers=  26\n",
      "even numbers=  28\n",
      "even numbers=  30\n",
      "even numbers=  32\n",
      "even numbers=  34\n",
      "even numbers=  36\n",
      "even numbers=  38\n",
      "even numbers=  40\n",
      "even numbers=  42\n",
      "even numbers=  44\n",
      "even numbers=  46\n",
      "even numbers=  48\n",
      "even numbers=  50\n",
      "even numbers=  52\n",
      "even numbers=  54\n",
      "even numbers=  56\n",
      "even numbers=  58\n",
      "even numbers=  60\n",
      "even numbers=  62\n",
      "even numbers=  64\n",
      "even numbers=  66\n",
      "even numbers=  68\n",
      "even numbers=  70\n",
      "even numbers=  72\n",
      "even numbers=  74\n",
      "even numbers=  76\n",
      "even numbers=  78\n",
      "even numbers=  80\n",
      "even numbers=  82\n",
      "even numbers=  84\n",
      "even numbers=  86\n",
      "even numbers=  88\n",
      "even numbers=  90\n",
      "even numbers=  92\n",
      "even numbers=  94\n",
      "even numbers=  96\n",
      "even numbers=  98\n",
      "even numbers=  100\n",
      "numbers=  0\n",
      "numbers=  2\n",
      "numbers=  4\n",
      "numbers=  6\n",
      "numbers=  8\n",
      "numbers=  10\n",
      "numbers=  12\n",
      "numbers=  14\n",
      "numbers=  16\n",
      "numbers=  18\n",
      "numbers=  20\n",
      "numbers=  22\n",
      "numbers=  24\n",
      "numbers=  26\n",
      "numbers=  28\n",
      "numbers=  30\n",
      "numbers=  32\n",
      "numbers=  34\n",
      "numbers=  36\n",
      "numbers=  38\n",
      "numbers=  40\n",
      "numbers=  42\n",
      "numbers=  44\n",
      "numbers=  46\n",
      "numbers=  48\n",
      "numbers=  50\n",
      "numbers=  52\n",
      "numbers=  54\n",
      "numbers=  56\n",
      "numbers=  58\n",
      "numbers=  60\n",
      "numbers=  62\n",
      "numbers=  64\n",
      "numbers=  66\n",
      "numbers=  68\n",
      "numbers=  70\n",
      "numbers=  72\n",
      "numbers=  74\n",
      "numbers=  76\n",
      "numbers=  78\n",
      "numbers=  80\n",
      "numbers=  82\n",
      "numbers=  84\n",
      "numbers=  86\n",
      "numbers=  88\n",
      "numbers=  90\n",
      "even numbers=  0\n",
      "even numbers=  2\n",
      "even numbers=  4\n",
      "even numbers=  6\n",
      "even numbers=  8\n",
      "even numbers=  10\n",
      "even numbers=  12\n",
      "even numbers=  14\n",
      "even numbers=  16\n",
      "even numbers=  18\n",
      "even numbers=  20\n",
      "even numbers=  22\n",
      "even numbers=  24\n",
      "even numbers=  26\n",
      "even numbers=  28\n",
      "even numbers=  30\n",
      "even numbers=  32\n",
      "even numbers=  34\n",
      "even numbers=  36\n",
      "even numbers=  38\n",
      "even numbers=  40\n",
      "even numbers=  42\n",
      "even numbers=  44\n",
      "even numbers=  46\n",
      "even numbers=  48\n",
      "even numbers=  50\n",
      "even numbers=  52\n",
      "even numbers=  54\n",
      "even numbers=  56\n",
      "even numbers=  58\n",
      "even numbers=  60\n",
      "even numbers=  62\n",
      "even numbers=  64\n",
      "even numbers=  66\n",
      "even numbers=  68\n",
      "even numbers=  70\n",
      "even numbers=  72\n",
      "even numbers=  74\n",
      "even numbers=  76\n",
      "even numbers=  78\n",
      "even numbers=  80\n",
      "even numbers=  82\n",
      "even numbers=  84\n",
      "even numbers=  86\n",
      "even numbers=  88\n",
      "even numbers=  90\n",
      "even numbers=  92\n",
      "even numbers=  94\n",
      "even numbers=  96\n",
      "even numbers=  98\n",
      "even numbers=  100\n"
     ]
    }
   ],
   "source": [
    "for i in range(1,101):\n",
    "    if i %2==0:\n",
    "        print(\"even numbers:=\",i)\n",
    "    else:\n",
    "        pass\n",
    "    \n",
    "for i in range(1,101):\n",
    "    if i %2==0:\n",
    "        print(\"numbers:=\",i)\n",
    "        if i==50:\n",
    "            break\n",
    "            \n",
    "for i in range(1,101):\n",
    "    if i %2==0:\n",
    "        print(\"even numbers:=\",i)\n",
    "    if i in [10,20,30,40,50]:\n",
    "        continue\n",
    "i=0\n",
    "while i<=100:\n",
    "    if i%2==0:\n",
    "        print(\"even numbers= \",i)\n",
    "    i=i+1\n",
    "\n",
    "i=0\n",
    "while i<=100:\n",
    "    if i%2==0:\n",
    "        print(\"numbers= \",i)\n",
    "        if i==90:\n",
    "            break\n",
    "    i+=1\n",
    "\n",
    "i=0\n",
    "while i<=100:\n",
    "    if i%2==0:\n",
    "        print(\"even numbers= \",i)\n",
    "        if i in [60,70,80,90]:\n",
    "            i+=1\n",
    "            continue\n",
    "    i+=1           \n",
    "    \n",
    "    "
   ]
  },
  {
   "cell_type": "markdown",
   "metadata": {},
   "source": [
    "### Sl no 20, Topic-Looping Structure"
   ]
  },
  {
   "cell_type": "markdown",
   "metadata": {},
   "source": [
    "#### Write a program to generate a Fibonacci series of numbers.\n",
    "Starting numbers are 0 and 1,  new number in the series is generated by adding previous two numbers in the series.\n",
    "Example : 0, 1, 1, 2, 3, 5, 8,13,21,.....\n",
    "    \n",
    "   a) Number of elements printed in the series should be N numbers, Where N is any +ve integer.\n",
    "\n",
    "   b) Generate the series until the element in the series is less than Max number.\n"
   ]
  },
  {
   "cell_type": "code",
   "execution_count": 20,
   "metadata": {},
   "outputs": [
    {
     "name": "stdout",
     "output_type": "stream",
     "text": [
      "Enter the number count? 70\n",
      "Fibonacci sequence:\n",
      "0\n",
      "1\n",
      "1\n",
      "2\n",
      "3\n",
      "5\n",
      "8\n",
      "13\n",
      "21\n",
      "34\n",
      "55\n"
     ]
    }
   ],
   "source": [
    "num = int(input(\"Enter the number count? \"))\n",
    "def Fibonacci_series(n):\n",
    "    if n <= 1:\n",
    "        return n  \n",
    "    else:\n",
    "        return(Fibonacci_series(n-1) + Fibonacci_series(n-2))  \n",
    "\n",
    "if num <= 0:\n",
    "    print(\"Please enter a positive integer\")  \n",
    "else:\n",
    "    print(\"Fibonacci sequence:\")\n",
    "    for i in range(num):\n",
    "        feb=Fibonacci_series(i)\n",
    "        if feb<num:\n",
    "            print(feb)\n",
    "        else:\n",
    "            break"
   ]
  }
 ],
 "metadata": {
  "kernelspec": {
   "display_name": "Python 3",
   "language": "python",
   "name": "python3"
  },
  "language_info": {
   "codemirror_mode": {
    "name": "ipython",
    "version": 3
   },
   "file_extension": ".py",
   "mimetype": "text/x-python",
   "name": "python",
   "nbconvert_exporter": "python",
   "pygments_lexer": "ipython3",
   "version": "3.6.3"
  }
 },
 "nbformat": 4,
 "nbformat_minor": 2
}
