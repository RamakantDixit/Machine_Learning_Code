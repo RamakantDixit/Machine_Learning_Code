{
 "cells": [
  {
   "cell_type": "code",
   "execution_count": 1,
   "metadata": {},
   "outputs": [],
   "source": [
    "import spacy\n",
    "import random\n"
   ]
  },
  {
   "cell_type": "code",
   "execution_count": 2,
   "metadata": {
    "collapsed": true
   },
   "outputs": [],
   "source": [
    "TRAIN_DATA = [\n",
    "    (\"my userID is 2013 and your invoice amount is RS 2000\", {\"entities\": [(45, 52, \"Invoice amount\")]}),\n",
    "    (\"my userID is 3001 mob number is 8970 and your invoice amount is RS 3001\", {\"entities\": [(64, 71, \"Invoice amount\")]}),\n",
    "    (\"Your mobile number is 7932199 and your invoice amount is RS 80 and your user id is 233452\", {\"entities\": [(57, 62, \"Invoice amount\")]}),\n",
    "    (\"Hey your invoice amount is $ 7.2 your home address is Bangalore pin code is 560054.\", {\"entities\": [(27, 32, \"Invoice amount\")]}),\n",
    "    (\"your home address is vidisha pin code is 464224 Hey your userID is SA213445 invoice amount is $ 502.\", {\"entities\": [(94, 99, \"Invoice amount\")]}),\n",
    "    (\"invoice amount is $ 65421 and your bill centure code is 3421 and your home tel no is 432112111.\", {\"entities\": [(18, 25, \"Invoice amount\")]}),\n",
    "    (\"your bill centure code is 3421 and your home tel no is 432111 invoice amount is $ 1 and  site is SC\", {\"entities\": [(80, 83, \"Invoice amount\")]}),\n",
    "]\n"
   ]
  },
  {
   "cell_type": "code",
   "execution_count": 3,
   "metadata": {},
   "outputs": [],
   "source": [
    "#train the model\n",
    "def train_spacy(data,iterations):\n",
    "    TRAIN_DATA = data\n",
    "    nlp = spacy.blank('en')  # create blank Language class\n",
    "    # create the built-in pipeline components and add them to the pipeline\n",
    "    # nlp.create_pipe works for built-ins that are registered with spaCy\n",
    "    if 'ner' not in nlp.pipe_names:\n",
    "        ner = nlp.create_pipe('ner')\n",
    "        nlp.add_pipe(ner, last=True)\n",
    "       \n",
    "\n",
    "    # add labels\n",
    "    for _, annotations in TRAIN_DATA:\n",
    "         for ent in annotations.get('entities'):\n",
    "            ner.add_label(ent[2])\n",
    "\n",
    "    # get names of other pipes to disable them during training\n",
    "    other_pipes = [pipe for pipe in nlp.pipe_names if pipe != 'ner']\n",
    "    with nlp.disable_pipes(*other_pipes):  # only train NER\n",
    "        optimizer = nlp.begin_training()\n",
    "        for itn in range(iterations):\n",
    "            print(\"Statring iteration \" + str(itn))\n",
    "            random.shuffle(TRAIN_DATA)\n",
    "            losses = {}\n",
    "            for text, annotations in TRAIN_DATA:\n",
    "                nlp.update(\n",
    "                    [text],  # batch of texts\n",
    "                    [annotations],  # batch of annotations\n",
    "                    drop=0.2,  # dropout - make it harder to memorise data\n",
    "                    sgd=optimizer,  # callable to update weights\n",
    "                    losses=losses)\n",
    "            print(losses)\n",
    "    return nlp\n"
   ]
  },
  {
   "cell_type": "code",
   "execution_count": 4,
   "metadata": {},
   "outputs": [
    {
     "name": "stdout",
     "output_type": "stream",
     "text": [
      "Statring iteration 0\n",
      "{'ner': 75.23565755784512}\n",
      "Statring iteration 1\n",
      "{'ner': 13.036649171622685}\n",
      "Statring iteration 2\n",
      "{'ner': 19.197379739601843}\n",
      "Statring iteration 3\n",
      "{'ner': 14.143196697367273}\n",
      "Statring iteration 4\n",
      "{'ner': 8.401191135718001}\n",
      "Statring iteration 5\n",
      "{'ner': 2.0882987712855217}\n",
      "Statring iteration 6\n",
      "{'ner': 0.001523490339006367}\n",
      "Statring iteration 7\n",
      "{'ner': 0.0008158914253860205}\n",
      "Statring iteration 8\n",
      "{'ner': 7.037787426261847e-06}\n",
      "Statring iteration 9\n",
      "{'ner': 5.823277720118285e-07}\n",
      "Statring iteration 10\n",
      "{'ner': 3.9012180461524363e-07}\n",
      "Statring iteration 11\n",
      "{'ner': 4.426422911469925e-05}\n",
      "Statring iteration 12\n",
      "{'ner': 1.0271212175848569e-08}\n",
      "Statring iteration 13\n",
      "{'ner': 9.609780741022607e-08}\n",
      "Statring iteration 14\n",
      "{'ner': 1.2375694853495452e-05}\n",
      "Statring iteration 15\n",
      "{'ner': 1.8791631578349883e-08}\n",
      "Statring iteration 16\n",
      "{'ner': 8.001910558767165e-07}\n",
      "Statring iteration 17\n",
      "{'ner': 3.9966840393065274e-08}\n",
      "Statring iteration 18\n",
      "{'ner': 4.084191390770167e-10}\n",
      "Statring iteration 19\n",
      "{'ner': 3.281925317612527e-08}\n"
     ]
    }
   ],
   "source": [
    "prdnlp = train_spacy(TRAIN_DATA, 20)"
   ]
  },
  {
   "cell_type": "code",
   "execution_count": 6,
   "metadata": {},
   "outputs": [],
   "source": [
    "# Save our trained Model\n",
    "modelfile = \"C:\\\\Users\\\\Kanan\\\\Documents\\\\NLP custom NER\\\\Invoice_NER_Model\"\n",
    "prdnlp.to_disk(modelfile)"
   ]
  },
  {
   "cell_type": "code",
   "execution_count": 7,
   "metadata": {},
   "outputs": [
    {
     "name": "stdout",
     "output_type": "stream",
     "text": [
      "Loading from C:\\Users\\Kanan\\Documents\\NLP custom NER\\Invoice_NER_Model\n",
      "$400 11 15 Invoice amount\n"
     ]
    }
   ],
   "source": [
    "#Test the model \n",
    "#first load the model\n",
    "modelfile = \"C:\\\\Users\\\\Kanan\\\\Documents\\\\NLP custom NER\\\\Invoice_NER_Model\"\n",
    "print(\"Loading from\", modelfile)\n",
    "nlp2 = spacy.load(modelfile)\n",
    "\n",
    "#test_text =  \"My name is ramakant and my mobilenumber is 89766 and my invoice is RS 200\"\n",
    "#test_text =  \"my pin code is 34221 and my user id is 211217 abd my bill is $3\"\n",
    "test_text =  \"my bill is $400 and my account number is 20012 and my mobile number is 8970577626\"\n",
    "\n",
    "doc = nlp2(test_text)\n",
    "for ent in doc.ents:\n",
    "    print(ent.text, ent.start_char, ent.end_char, ent.label_)"
   ]
  },
  {
   "cell_type": "code",
   "execution_count": 37,
   "metadata": {},
   "outputs": [
    {
     "data": {
      "text/plain": [
       "'$ 1'"
      ]
     },
     "execution_count": 37,
     "metadata": {},
     "output_type": "execute_result"
    }
   ],
   "source": [
    "#myString = 'ramakant'\n",
    "#myString='my userID is 2013 and your invoice amount is RS 2000' #45,52\n",
    "#myString='my userID is 3001 mob number is 8970 and your invoice amount is RS 3001' #64,71\n",
    "#myString='Your mobile number is 7932199 and your invoice amount is RS 80 and your user id is 233452'#57,62\n",
    "#myString='Hey your invoice amount is $ 7.2 your home address is Bangalore pin code is 560054.'#27,32\n",
    "#myString='your home address is vidisha pin code is 464224 Hey your userID is SA213445 invoice amount is $ 502.'#94,99\n",
    "#myString='invoice amount is $ 65421 and your bill centure code is 3421 and your home tel no is 432112111.'#18,25\n",
    "myString='your bill centure code is 3421 and your home tel no is 432111 invoice amount is $ 1 and  site is SC'#80,83\n",
    "#print(len(str))\n",
    "#str[0:4]\n",
    "#myString.index('x')\n",
    "#a=myString.index('$')\n",
    "#a\n",
    "\n",
    "#myString[80:83]\n"
   ]
  }
 ],
 "metadata": {
  "kernelspec": {
   "display_name": "Python 3",
   "language": "python",
   "name": "python3"
  },
  "language_info": {
   "codemirror_mode": {
    "name": "ipython",
    "version": 3
   },
   "file_extension": ".py",
   "mimetype": "text/x-python",
   "name": "python",
   "nbconvert_exporter": "python",
   "pygments_lexer": "ipython3",
   "version": "3.6.3"
  }
 },
 "nbformat": 4,
 "nbformat_minor": 2
}
